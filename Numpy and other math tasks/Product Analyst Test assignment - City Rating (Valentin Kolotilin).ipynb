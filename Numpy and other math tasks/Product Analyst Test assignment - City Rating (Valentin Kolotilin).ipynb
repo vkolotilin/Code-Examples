{
 "cells": [
  {
   "cell_type": "markdown",
   "id": "1adc805a-5f0c-4c7a-a5bb-622138b1e354",
   "metadata": {},
   "source": [
    "# Problem Statement"
   ]
  },
  {
   "cell_type": "markdown",
   "id": "584813a7-a71d-4bfb-b1c7-438ae520c754",
   "metadata": {},
   "source": [
    "**(РУ)**  \n",
    "Подготовить рейтинг городов исходя из среднего показателя оборота на 1 клиента. (формат результата - файл Ms Excel, если решение с помощью питона, то ноутбук)  \n",
    "Исходные данные:  \n",
    "- Выгрузка 1 – Ключ контрагента (уникальный идентификатор клиента),Ключ Подразделения контрагента (уникальный идентификатор подразделения), 3-й столбец без названия – оборот (вымышленные данные)  \n",
    "- Выгрузка 2 – справочник Ключ Подразделения контрагента – город\n",
    "\n",
    "**(EN)**  \n",
    "Prepare a city rating based on the average turnover per client. (result format - MS Excel file, if the solution is using Python, then a Jupyter Notebook)  \n",
    "Initial data:\n",
    "\n",
    "- Upload 1 - Counterparty Key (unique client identifier), Counterparty Department Key (unique department identifier), 3rd column without a name - turnover (fictitious data)\n",
    "- Upload 2 - Counterparty Department Key directory - city"
   ]
  },
  {
   "cell_type": "markdown",
   "id": "34bed2b6-76af-45a5-8c27-77419b42e4e6",
   "metadata": {},
   "source": [
    "# Downloading the Data"
   ]
  },
  {
   "cell_type": "code",
   "execution_count": 1,
   "id": "a675e6a6-2836-47c8-8934-f60016b9adda",
   "metadata": {},
   "outputs": [],
   "source": [
    "import pandas as pd\n",
    "\n",
    "pd.options.display.max_rows = 100"
   ]
  },
  {
   "cell_type": "code",
   "execution_count": 2,
   "id": "3405f6e4-d3bb-49de-837d-3f9ae42420f2",
   "metadata": {},
   "outputs": [
    {
     "name": "stdout",
     "output_type": "stream",
     "text": [
      "Requirement already satisfied: xlrd in d:\\conda\\lib\\site-packages (2.0.1)\n"
     ]
    }
   ],
   "source": [
    "# libriary for opening old format xls files\n",
    "!pip install xlrd"
   ]
  },
  {
   "cell_type": "code",
   "execution_count": 3,
   "id": "505b0cbc-394e-4aa0-8c26-08d219187276",
   "metadata": {},
   "outputs": [],
   "source": [
    "extraction_directory = 'Test assignments/PA - city rating'\n",
    "\n",
    "data_1_csv_path = extraction_directory + '/1_Выгрузка_для_тестового_задания1_1.csv'\n",
    "data_1_df = pd.read_csv(data_1_csv_path, sep=',', index_col=None)\n",
    "\n",
    "data_2_xls_path = extraction_directory + '/2_Выгрузка_для_тестового_задания1_2.xls'\n",
    "data_2_df = pd.read_excel(data_2_xls_path, index_col=None)"
   ]
  },
  {
   "cell_type": "code",
   "execution_count": 4,
   "id": "59a71480-d262-465b-a170-d71c9c2ba8de",
   "metadata": {},
   "outputs": [
    {
     "data": {
      "text/html": [
       "<div>\n",
       "<style scoped>\n",
       "    .dataframe tbody tr th:only-of-type {\n",
       "        vertical-align: middle;\n",
       "    }\n",
       "\n",
       "    .dataframe tbody tr th {\n",
       "        vertical-align: top;\n",
       "    }\n",
       "\n",
       "    .dataframe thead th {\n",
       "        text-align: right;\n",
       "    }\n",
       "</style>\n",
       "<table border=\"1\" class=\"dataframe\">\n",
       "  <thead>\n",
       "    <tr style=\"text-align: right;\">\n",
       "      <th></th>\n",
       "      <th>Ключ контрагента</th>\n",
       "      <th>Ключ Подразделения контрагента</th>\n",
       "      <th>Unnamed: 2</th>\n",
       "    </tr>\n",
       "  </thead>\n",
       "  <tbody>\n",
       "    <tr>\n",
       "      <th>0</th>\n",
       "      <td>-1</td>\n",
       "      <td>-1</td>\n",
       "      <td>32 930</td>\n",
       "    </tr>\n",
       "    <tr>\n",
       "      <th>1</th>\n",
       "      <td>8</td>\n",
       "      <td>1046</td>\n",
       "      <td>86</td>\n",
       "    </tr>\n",
       "    <tr>\n",
       "      <th>2</th>\n",
       "      <td>18</td>\n",
       "      <td>126</td>\n",
       "      <td>3 763</td>\n",
       "    </tr>\n",
       "    <tr>\n",
       "      <th>3</th>\n",
       "      <td>32</td>\n",
       "      <td>63</td>\n",
       "      <td>149</td>\n",
       "    </tr>\n",
       "    <tr>\n",
       "      <th>4</th>\n",
       "      <td>43</td>\n",
       "      <td>13</td>\n",
       "      <td>297</td>\n",
       "    </tr>\n",
       "    <tr>\n",
       "      <th>...</th>\n",
       "      <td>...</td>\n",
       "      <td>...</td>\n",
       "      <td>...</td>\n",
       "    </tr>\n",
       "    <tr>\n",
       "      <th>1100383</th>\n",
       "      <td>10024110</td>\n",
       "      <td>1710</td>\n",
       "      <td>33</td>\n",
       "    </tr>\n",
       "    <tr>\n",
       "      <th>1100384</th>\n",
       "      <td>10027135</td>\n",
       "      <td>79</td>\n",
       "      <td>1 048</td>\n",
       "    </tr>\n",
       "    <tr>\n",
       "      <th>1100385</th>\n",
       "      <td>10034869</td>\n",
       "      <td>54</td>\n",
       "      <td>25</td>\n",
       "    </tr>\n",
       "    <tr>\n",
       "      <th>1100386</th>\n",
       "      <td>10050765</td>\n",
       "      <td>10</td>\n",
       "      <td>17</td>\n",
       "    </tr>\n",
       "    <tr>\n",
       "      <th>1100387</th>\n",
       "      <td>10075914</td>\n",
       "      <td>16</td>\n",
       "      <td>25</td>\n",
       "    </tr>\n",
       "  </tbody>\n",
       "</table>\n",
       "<p>1100388 rows × 3 columns</p>\n",
       "</div>"
      ],
      "text/plain": [
       "         Ключ контрагента  Ключ Подразделения контрагента Unnamed: 2\n",
       "0                      -1                              -1     32 930\n",
       "1                       8                            1046         86\n",
       "2                      18                             126      3 763\n",
       "3                      32                              63        149\n",
       "4                      43                              13        297\n",
       "...                   ...                             ...        ...\n",
       "1100383          10024110                            1710         33\n",
       "1100384          10027135                              79      1 048\n",
       "1100385          10034869                              54         25\n",
       "1100386          10050765                              10         17\n",
       "1100387          10075914                              16         25\n",
       "\n",
       "[1100388 rows x 3 columns]"
      ]
     },
     "execution_count": 4,
     "metadata": {},
     "output_type": "execute_result"
    }
   ],
   "source": [
    "data_1_df"
   ]
  },
  {
   "cell_type": "code",
   "execution_count": 5,
   "id": "b8db5399-b73a-4441-9c83-ce1ce05abe96",
   "metadata": {},
   "outputs": [
    {
     "data": {
      "text/html": [
       "<div>\n",
       "<style scoped>\n",
       "    .dataframe tbody tr th:only-of-type {\n",
       "        vertical-align: middle;\n",
       "    }\n",
       "\n",
       "    .dataframe tbody tr th {\n",
       "        vertical-align: top;\n",
       "    }\n",
       "\n",
       "    .dataframe thead th {\n",
       "        text-align: right;\n",
       "    }\n",
       "</style>\n",
       "<table border=\"1\" class=\"dataframe\">\n",
       "  <thead>\n",
       "    <tr style=\"text-align: right;\">\n",
       "      <th></th>\n",
       "      <th>Ключ контрагента</th>\n",
       "      <th>Ключ Подразделения контрагента</th>\n",
       "      <th>Metric</th>\n",
       "    </tr>\n",
       "  </thead>\n",
       "  <tbody>\n",
       "    <tr>\n",
       "      <th>0</th>\n",
       "      <td>-1</td>\n",
       "      <td>-1</td>\n",
       "      <td>32 930</td>\n",
       "    </tr>\n",
       "    <tr>\n",
       "      <th>1</th>\n",
       "      <td>8</td>\n",
       "      <td>1046</td>\n",
       "      <td>86</td>\n",
       "    </tr>\n",
       "    <tr>\n",
       "      <th>2</th>\n",
       "      <td>18</td>\n",
       "      <td>126</td>\n",
       "      <td>3 763</td>\n",
       "    </tr>\n",
       "    <tr>\n",
       "      <th>3</th>\n",
       "      <td>32</td>\n",
       "      <td>63</td>\n",
       "      <td>149</td>\n",
       "    </tr>\n",
       "    <tr>\n",
       "      <th>4</th>\n",
       "      <td>43</td>\n",
       "      <td>13</td>\n",
       "      <td>297</td>\n",
       "    </tr>\n",
       "    <tr>\n",
       "      <th>...</th>\n",
       "      <td>...</td>\n",
       "      <td>...</td>\n",
       "      <td>...</td>\n",
       "    </tr>\n",
       "    <tr>\n",
       "      <th>1100383</th>\n",
       "      <td>10024110</td>\n",
       "      <td>1710</td>\n",
       "      <td>33</td>\n",
       "    </tr>\n",
       "    <tr>\n",
       "      <th>1100384</th>\n",
       "      <td>10027135</td>\n",
       "      <td>79</td>\n",
       "      <td>1 048</td>\n",
       "    </tr>\n",
       "    <tr>\n",
       "      <th>1100385</th>\n",
       "      <td>10034869</td>\n",
       "      <td>54</td>\n",
       "      <td>25</td>\n",
       "    </tr>\n",
       "    <tr>\n",
       "      <th>1100386</th>\n",
       "      <td>10050765</td>\n",
       "      <td>10</td>\n",
       "      <td>17</td>\n",
       "    </tr>\n",
       "    <tr>\n",
       "      <th>1100387</th>\n",
       "      <td>10075914</td>\n",
       "      <td>16</td>\n",
       "      <td>25</td>\n",
       "    </tr>\n",
       "  </tbody>\n",
       "</table>\n",
       "<p>1100388 rows × 3 columns</p>\n",
       "</div>"
      ],
      "text/plain": [
       "         Ключ контрагента  Ключ Подразделения контрагента  Metric\n",
       "0                      -1                              -1  32 930\n",
       "1                       8                            1046      86\n",
       "2                      18                             126   3 763\n",
       "3                      32                              63     149\n",
       "4                      43                              13     297\n",
       "...                   ...                             ...     ...\n",
       "1100383          10024110                            1710      33\n",
       "1100384          10027135                              79   1 048\n",
       "1100385          10034869                              54      25\n",
       "1100386          10050765                              10      17\n",
       "1100387          10075914                              16      25\n",
       "\n",
       "[1100388 rows x 3 columns]"
      ]
     },
     "execution_count": 5,
     "metadata": {},
     "output_type": "execute_result"
    }
   ],
   "source": [
    "data_1_df = data_1_df.rename(columns={'Unnamed: 2': 'Metric'})\n",
    "data_1_df"
   ]
  },
  {
   "cell_type": "code",
   "execution_count": 6,
   "id": "f479ca1d-2ba1-4f85-a19e-2cf85c4c517b",
   "metadata": {},
   "outputs": [
    {
     "data": {
      "text/html": [
       "<div>\n",
       "<style scoped>\n",
       "    .dataframe tbody tr th:only-of-type {\n",
       "        vertical-align: middle;\n",
       "    }\n",
       "\n",
       "    .dataframe tbody tr th {\n",
       "        vertical-align: top;\n",
       "    }\n",
       "\n",
       "    .dataframe thead th {\n",
       "        text-align: right;\n",
       "    }\n",
       "</style>\n",
       "<table border=\"1\" class=\"dataframe\">\n",
       "  <thead>\n",
       "    <tr style=\"text-align: right;\">\n",
       "      <th></th>\n",
       "      <th>Ключ Подразделения контрагента</th>\n",
       "      <th>Город ОСП контрагента</th>\n",
       "    </tr>\n",
       "  </thead>\n",
       "  <tbody>\n",
       "    <tr>\n",
       "      <th>0</th>\n",
       "      <td>-1</td>\n",
       "      <td>-</td>\n",
       "    </tr>\n",
       "    <tr>\n",
       "      <th>1</th>\n",
       "      <td>1</td>\n",
       "      <td>Санкт-Петербург</td>\n",
       "    </tr>\n",
       "    <tr>\n",
       "      <th>2</th>\n",
       "      <td>2</td>\n",
       "      <td>Пермь</td>\n",
       "    </tr>\n",
       "    <tr>\n",
       "      <th>3</th>\n",
       "      <td>3</td>\n",
       "      <td>Москва</td>\n",
       "    </tr>\n",
       "    <tr>\n",
       "      <th>4</th>\n",
       "      <td>4</td>\n",
       "      <td>Архангельск</td>\n",
       "    </tr>\n",
       "    <tr>\n",
       "      <th>...</th>\n",
       "      <td>...</td>\n",
       "      <td>...</td>\n",
       "    </tr>\n",
       "    <tr>\n",
       "      <th>301</th>\n",
       "      <td>2159</td>\n",
       "      <td>Ялта</td>\n",
       "    </tr>\n",
       "    <tr>\n",
       "      <th>302</th>\n",
       "      <td>2164</td>\n",
       "      <td>Нижний Новгород</td>\n",
       "    </tr>\n",
       "    <tr>\n",
       "      <th>303</th>\n",
       "      <td>2173</td>\n",
       "      <td>Москва</td>\n",
       "    </tr>\n",
       "    <tr>\n",
       "      <th>304</th>\n",
       "      <td>2182</td>\n",
       "      <td>Новосибирск</td>\n",
       "    </tr>\n",
       "    <tr>\n",
       "      <th>305</th>\n",
       "      <td>2192</td>\n",
       "      <td>Екатеринбург</td>\n",
       "    </tr>\n",
       "  </tbody>\n",
       "</table>\n",
       "<p>306 rows × 2 columns</p>\n",
       "</div>"
      ],
      "text/plain": [
       "     Ключ Подразделения контрагента Город ОСП контрагента\n",
       "0                                -1                     -\n",
       "1                                 1       Санкт-Петербург\n",
       "2                                 2                 Пермь\n",
       "3                                 3                Москва\n",
       "4                                 4           Архангельск\n",
       "..                              ...                   ...\n",
       "301                            2159                  Ялта\n",
       "302                            2164       Нижний Новгород\n",
       "303                            2173                Москва\n",
       "304                            2182           Новосибирск\n",
       "305                            2192          Екатеринбург\n",
       "\n",
       "[306 rows x 2 columns]"
      ]
     },
     "execution_count": 6,
     "metadata": {},
     "output_type": "execute_result"
    }
   ],
   "source": [
    "data_2_df"
   ]
  },
  {
   "cell_type": "markdown",
   "id": "5cb21104-3967-40c5-951c-2bdfcac57e30",
   "metadata": {},
   "source": [
    "# Solution"
   ]
  },
  {
   "cell_type": "markdown",
   "id": "2e416c91-0a09-4306-9240-97d858243965",
   "metadata": {},
   "source": [
    "## Prepare Data"
   ]
  },
  {
   "cell_type": "code",
   "execution_count": 7,
   "id": "e48de9d9-51c2-4246-b529-78c13715e9f5",
   "metadata": {},
   "outputs": [
    {
     "data": {
      "text/html": [
       "<div>\n",
       "<style scoped>\n",
       "    .dataframe tbody tr th:only-of-type {\n",
       "        vertical-align: middle;\n",
       "    }\n",
       "\n",
       "    .dataframe tbody tr th {\n",
       "        vertical-align: top;\n",
       "    }\n",
       "\n",
       "    .dataframe thead th {\n",
       "        text-align: right;\n",
       "    }\n",
       "</style>\n",
       "<table border=\"1\" class=\"dataframe\">\n",
       "  <thead>\n",
       "    <tr style=\"text-align: right;\">\n",
       "      <th></th>\n",
       "      <th>Ключ контрагента</th>\n",
       "      <th>Ключ Подразделения контрагента</th>\n",
       "      <th>Metric</th>\n",
       "      <th>Город ОСП контрагента</th>\n",
       "    </tr>\n",
       "  </thead>\n",
       "  <tbody>\n",
       "    <tr>\n",
       "      <th>0</th>\n",
       "      <td>-1</td>\n",
       "      <td>-1</td>\n",
       "      <td>32 930</td>\n",
       "      <td>-</td>\n",
       "    </tr>\n",
       "    <tr>\n",
       "      <th>1</th>\n",
       "      <td>8</td>\n",
       "      <td>1046</td>\n",
       "      <td>86</td>\n",
       "      <td>Ачинск</td>\n",
       "    </tr>\n",
       "    <tr>\n",
       "      <th>2</th>\n",
       "      <td>18</td>\n",
       "      <td>126</td>\n",
       "      <td>3 763</td>\n",
       "      <td>Чита</td>\n",
       "    </tr>\n",
       "    <tr>\n",
       "      <th>3</th>\n",
       "      <td>32</td>\n",
       "      <td>63</td>\n",
       "      <td>149</td>\n",
       "      <td>Киров</td>\n",
       "    </tr>\n",
       "    <tr>\n",
       "      <th>4</th>\n",
       "      <td>43</td>\n",
       "      <td>13</td>\n",
       "      <td>297</td>\n",
       "      <td>Уфа</td>\n",
       "    </tr>\n",
       "    <tr>\n",
       "      <th>...</th>\n",
       "      <td>...</td>\n",
       "      <td>...</td>\n",
       "      <td>...</td>\n",
       "      <td>...</td>\n",
       "    </tr>\n",
       "    <tr>\n",
       "      <th>1100383</th>\n",
       "      <td>10024110</td>\n",
       "      <td>1710</td>\n",
       "      <td>33</td>\n",
       "      <td>Новочебоксарск</td>\n",
       "    </tr>\n",
       "    <tr>\n",
       "      <th>1100384</th>\n",
       "      <td>10027135</td>\n",
       "      <td>79</td>\n",
       "      <td>1 048</td>\n",
       "      <td>Забайкальск</td>\n",
       "    </tr>\n",
       "    <tr>\n",
       "      <th>1100385</th>\n",
       "      <td>10034869</td>\n",
       "      <td>54</td>\n",
       "      <td>25</td>\n",
       "      <td>Красноярск</td>\n",
       "    </tr>\n",
       "    <tr>\n",
       "      <th>1100386</th>\n",
       "      <td>10050765</td>\n",
       "      <td>10</td>\n",
       "      <td>17</td>\n",
       "      <td>Ростов-на-Дону</td>\n",
       "    </tr>\n",
       "    <tr>\n",
       "      <th>1100387</th>\n",
       "      <td>10075914</td>\n",
       "      <td>16</td>\n",
       "      <td>25</td>\n",
       "      <td>Вологда</td>\n",
       "    </tr>\n",
       "  </tbody>\n",
       "</table>\n",
       "<p>1100388 rows × 4 columns</p>\n",
       "</div>"
      ],
      "text/plain": [
       "         Ключ контрагента  Ключ Подразделения контрагента  Metric  \\\n",
       "0                      -1                              -1  32 930   \n",
       "1                       8                            1046      86   \n",
       "2                      18                             126   3 763   \n",
       "3                      32                              63     149   \n",
       "4                      43                              13     297   \n",
       "...                   ...                             ...     ...   \n",
       "1100383          10024110                            1710      33   \n",
       "1100384          10027135                              79   1 048   \n",
       "1100385          10034869                              54      25   \n",
       "1100386          10050765                              10      17   \n",
       "1100387          10075914                              16      25   \n",
       "\n",
       "        Город ОСП контрагента  \n",
       "0                           -  \n",
       "1                      Ачинск  \n",
       "2                        Чита  \n",
       "3                       Киров  \n",
       "4                         Уфа  \n",
       "...                       ...  \n",
       "1100383        Новочебоксарск  \n",
       "1100384           Забайкальск  \n",
       "1100385            Красноярск  \n",
       "1100386        Ростов-на-Дону  \n",
       "1100387               Вологда  \n",
       "\n",
       "[1100388 rows x 4 columns]"
      ]
     },
     "execution_count": 7,
     "metadata": {},
     "output_type": "execute_result"
    }
   ],
   "source": [
    "# Merge DFs\n",
    "merged_df = pd.merge(data_1_df, data_2_df,\n",
    "                     left_on='Ключ Подразделения контрагента',\n",
    "                     right_on='Ключ Подразделения контрагента',\n",
    "                     how='left')\n",
    "merged_df"
   ]
  },
  {
   "cell_type": "code",
   "execution_count": 8,
   "id": "b9815909-8b8e-46ff-b12d-513e6a2c4b48",
   "metadata": {},
   "outputs": [],
   "source": [
    "merged_df['Город ОСП контрагента'] = merged_df['Город ОСП контрагента'].replace('Կนτα', 'Чита')\n",
    "merged_df['Город ОСП контрагента'] = merged_df['Город ОСП контрагента'].replace('Нет города', 'Нет Данных')\n",
    "merged_df['Город ОСП контрагента'] = merged_df['Город ОСП контрагента'].replace('-', 'Нет Данных')"
   ]
  },
  {
   "cell_type": "code",
   "execution_count": 9,
   "id": "d45f3ff6-744c-464d-b8a6-9ff396aafaed",
   "metadata": {},
   "outputs": [
    {
     "data": {
      "text/plain": [
       "dtype('O')"
      ]
     },
     "execution_count": 9,
     "metadata": {},
     "output_type": "execute_result"
    }
   ],
   "source": [
    "merged_df['Город ОСП контрагента'].dtype"
   ]
  },
  {
   "cell_type": "code",
   "execution_count": 10,
   "id": "174a99f7-3751-471b-bdb4-fb830d6dde0a",
   "metadata": {},
   "outputs": [
    {
     "data": {
      "text/plain": [
       "dtype('O')"
      ]
     },
     "execution_count": 10,
     "metadata": {},
     "output_type": "execute_result"
    }
   ],
   "source": [
    "merged_df['Metric'].dtype"
   ]
  },
  {
   "cell_type": "code",
   "execution_count": 11,
   "id": "d2774fe0-5a8c-47a4-b324-98877b8d1750",
   "metadata": {},
   "outputs": [
    {
     "data": {
      "text/plain": [
       "dtype('float64')"
      ]
     },
     "execution_count": 11,
     "metadata": {},
     "output_type": "execute_result"
    }
   ],
   "source": [
    "# lets change it to numeric\n",
    "\n",
    "merged_df['Metric'] = merged_df['Metric'].str.replace(' ', '')\n",
    "merged_df['Metric'] = pd.to_numeric(merged_df['Metric'], errors='coerce')\n",
    "merged_df['Metric'].dtype"
   ]
  },
  {
   "cell_type": "code",
   "execution_count": 12,
   "id": "91364bc0-c022-4230-afd4-b530476ec17b",
   "metadata": {},
   "outputs": [
    {
     "data": {
      "text/plain": [
       "dtype('int64')"
      ]
     },
     "execution_count": 12,
     "metadata": {},
     "output_type": "execute_result"
    }
   ],
   "source": [
    "merged_df['Ключ Подразделения контрагента'].dtype"
   ]
  },
  {
   "cell_type": "code",
   "execution_count": 13,
   "id": "8f39fa9f-123a-4ecf-b826-6c15a2d40e28",
   "metadata": {},
   "outputs": [
    {
     "data": {
      "text/plain": [
       "dtype('int64')"
      ]
     },
     "execution_count": 13,
     "metadata": {},
     "output_type": "execute_result"
    }
   ],
   "source": [
    "merged_df['Ключ контрагента'].dtype"
   ]
  },
  {
   "cell_type": "markdown",
   "id": "5cbc2b4f-aac6-4a4f-89bb-c1499b762073",
   "metadata": {},
   "source": [
    "## Group Data"
   ]
  },
  {
   "cell_type": "code",
   "execution_count": 14,
   "id": "5b3a1d30-d09a-4347-bec4-54f18d7636e9",
   "metadata": {},
   "outputs": [
    {
     "data": {
      "text/plain": [
       "<pandas.core.groupby.generic.DataFrameGroupBy object at 0x00000274BAB42CF0>"
      ]
     },
     "execution_count": 14,
     "metadata": {},
     "output_type": "execute_result"
    }
   ],
   "source": [
    "# Group merged dataframe\n",
    "metric = merged_df.groupby('Город ОСП контрагента')\n",
    "metric"
   ]
  },
  {
   "cell_type": "code",
   "execution_count": 15,
   "id": "da5f64a0-203a-4608-b153-5f3ee9f8830c",
   "metadata": {},
   "outputs": [
    {
     "data": {
      "text/html": [
       "<div>\n",
       "<style scoped>\n",
       "    .dataframe tbody tr th:only-of-type {\n",
       "        vertical-align: middle;\n",
       "    }\n",
       "\n",
       "    .dataframe tbody tr th {\n",
       "        vertical-align: top;\n",
       "    }\n",
       "\n",
       "    .dataframe thead th {\n",
       "        text-align: right;\n",
       "    }\n",
       "</style>\n",
       "<table border=\"1\" class=\"dataframe\">\n",
       "  <thead>\n",
       "    <tr style=\"text-align: right;\">\n",
       "      <th></th>\n",
       "      <th>Город ОСП контрагента</th>\n",
       "      <th>turnover</th>\n",
       "      <th>unique_clients</th>\n",
       "    </tr>\n",
       "  </thead>\n",
       "  <tbody>\n",
       "    <tr>\n",
       "      <th>0</th>\n",
       "      <td>Абакан</td>\n",
       "      <td>761305.0</td>\n",
       "      <td>4542</td>\n",
       "    </tr>\n",
       "    <tr>\n",
       "      <th>1</th>\n",
       "      <td>Адлер</td>\n",
       "      <td>545713.0</td>\n",
       "      <td>3147</td>\n",
       "    </tr>\n",
       "    <tr>\n",
       "      <th>2</th>\n",
       "      <td>Альметьевск</td>\n",
       "      <td>413887.0</td>\n",
       "      <td>2553</td>\n",
       "    </tr>\n",
       "    <tr>\n",
       "      <th>3</th>\n",
       "      <td>Ангарск</td>\n",
       "      <td>390152.0</td>\n",
       "      <td>2368</td>\n",
       "    </tr>\n",
       "    <tr>\n",
       "      <th>4</th>\n",
       "      <td>Апатиты</td>\n",
       "      <td>443482.0</td>\n",
       "      <td>2728</td>\n",
       "    </tr>\n",
       "    <tr>\n",
       "      <th>...</th>\n",
       "      <td>...</td>\n",
       "      <td>...</td>\n",
       "      <td>...</td>\n",
       "    </tr>\n",
       "    <tr>\n",
       "      <th>180</th>\n",
       "      <td>Чита</td>\n",
       "      <td>1246557.0</td>\n",
       "      <td>6753</td>\n",
       "    </tr>\n",
       "    <tr>\n",
       "      <th>181</th>\n",
       "      <td>Шахты</td>\n",
       "      <td>316406.0</td>\n",
       "      <td>2042</td>\n",
       "    </tr>\n",
       "    <tr>\n",
       "      <th>182</th>\n",
       "      <td>Энгельс</td>\n",
       "      <td>403109.0</td>\n",
       "      <td>2564</td>\n",
       "    </tr>\n",
       "    <tr>\n",
       "      <th>183</th>\n",
       "      <td>Ялта</td>\n",
       "      <td>1458.0</td>\n",
       "      <td>7</td>\n",
       "    </tr>\n",
       "    <tr>\n",
       "      <th>184</th>\n",
       "      <td>Ярославль</td>\n",
       "      <td>1691049.0</td>\n",
       "      <td>10457</td>\n",
       "    </tr>\n",
       "  </tbody>\n",
       "</table>\n",
       "<p>185 rows × 3 columns</p>\n",
       "</div>"
      ],
      "text/plain": [
       "    Город ОСП контрагента   turnover  unique_clients\n",
       "0                  Абакан   761305.0            4542\n",
       "1                   Адлер   545713.0            3147\n",
       "2             Альметьевск   413887.0            2553\n",
       "3                 Ангарск   390152.0            2368\n",
       "4                 Апатиты   443482.0            2728\n",
       "..                    ...        ...             ...\n",
       "180                  Чита  1246557.0            6753\n",
       "181                 Шахты   316406.0            2042\n",
       "182               Энгельс   403109.0            2564\n",
       "183                  Ялта     1458.0               7\n",
       "184             Ярославль  1691049.0           10457\n",
       "\n",
       "[185 rows x 3 columns]"
      ]
     },
     "execution_count": 15,
     "metadata": {},
     "output_type": "execute_result"
    }
   ],
   "source": [
    "metric = merged_df.groupby('Город ОСП контрагента').agg(turnover = ('Metric', 'sum'), unique_clients = ('Ключ контрагента', 'nunique')).reset_index()\n",
    "metric"
   ]
  },
  {
   "cell_type": "markdown",
   "id": "15357fa8-ebfb-4b1e-aef5-396e354b1c62",
   "metadata": {},
   "source": [
    "## Calculate Average Turnover per Client"
   ]
  },
  {
   "cell_type": "code",
   "execution_count": 16,
   "id": "6fa820a8-4f75-4696-880b-dbaac2903efb",
   "metadata": {
    "scrolled": true
   },
   "outputs": [
    {
     "data": {
      "text/html": [
       "<div>\n",
       "<style scoped>\n",
       "    .dataframe tbody tr th:only-of-type {\n",
       "        vertical-align: middle;\n",
       "    }\n",
       "\n",
       "    .dataframe tbody tr th {\n",
       "        vertical-align: top;\n",
       "    }\n",
       "\n",
       "    .dataframe thead th {\n",
       "        text-align: right;\n",
       "    }\n",
       "</style>\n",
       "<table border=\"1\" class=\"dataframe\">\n",
       "  <thead>\n",
       "    <tr style=\"text-align: right;\">\n",
       "      <th></th>\n",
       "      <th>Город ОСП контрагента</th>\n",
       "      <th>turnover</th>\n",
       "      <th>unique_clients</th>\n",
       "      <th>avg_turnover_per_client</th>\n",
       "    </tr>\n",
       "  </thead>\n",
       "  <tbody>\n",
       "    <tr>\n",
       "      <th>0</th>\n",
       "      <td>Абакан</td>\n",
       "      <td>761305.0</td>\n",
       "      <td>4542</td>\n",
       "      <td>167.614487</td>\n",
       "    </tr>\n",
       "    <tr>\n",
       "      <th>1</th>\n",
       "      <td>Адлер</td>\n",
       "      <td>545713.0</td>\n",
       "      <td>3147</td>\n",
       "      <td>173.407372</td>\n",
       "    </tr>\n",
       "    <tr>\n",
       "      <th>2</th>\n",
       "      <td>Альметьевск</td>\n",
       "      <td>413887.0</td>\n",
       "      <td>2553</td>\n",
       "      <td>162.117901</td>\n",
       "    </tr>\n",
       "    <tr>\n",
       "      <th>3</th>\n",
       "      <td>Ангарск</td>\n",
       "      <td>390152.0</td>\n",
       "      <td>2368</td>\n",
       "      <td>164.760135</td>\n",
       "    </tr>\n",
       "    <tr>\n",
       "      <th>4</th>\n",
       "      <td>Апатиты</td>\n",
       "      <td>443482.0</td>\n",
       "      <td>2728</td>\n",
       "      <td>162.566716</td>\n",
       "    </tr>\n",
       "    <tr>\n",
       "      <th>...</th>\n",
       "      <td>...</td>\n",
       "      <td>...</td>\n",
       "      <td>...</td>\n",
       "      <td>...</td>\n",
       "    </tr>\n",
       "    <tr>\n",
       "      <th>180</th>\n",
       "      <td>Чита</td>\n",
       "      <td>1246557.0</td>\n",
       "      <td>6753</td>\n",
       "      <td>184.593070</td>\n",
       "    </tr>\n",
       "    <tr>\n",
       "      <th>181</th>\n",
       "      <td>Шахты</td>\n",
       "      <td>316406.0</td>\n",
       "      <td>2042</td>\n",
       "      <td>154.949070</td>\n",
       "    </tr>\n",
       "    <tr>\n",
       "      <th>182</th>\n",
       "      <td>Энгельс</td>\n",
       "      <td>403109.0</td>\n",
       "      <td>2564</td>\n",
       "      <td>157.218799</td>\n",
       "    </tr>\n",
       "    <tr>\n",
       "      <th>183</th>\n",
       "      <td>Ялта</td>\n",
       "      <td>1458.0</td>\n",
       "      <td>7</td>\n",
       "      <td>208.285714</td>\n",
       "    </tr>\n",
       "    <tr>\n",
       "      <th>184</th>\n",
       "      <td>Ярославль</td>\n",
       "      <td>1691049.0</td>\n",
       "      <td>10457</td>\n",
       "      <td>161.714545</td>\n",
       "    </tr>\n",
       "  </tbody>\n",
       "</table>\n",
       "<p>185 rows × 4 columns</p>\n",
       "</div>"
      ],
      "text/plain": [
       "    Город ОСП контрагента   turnover  unique_clients  avg_turnover_per_client\n",
       "0                  Абакан   761305.0            4542               167.614487\n",
       "1                   Адлер   545713.0            3147               173.407372\n",
       "2             Альметьевск   413887.0            2553               162.117901\n",
       "3                 Ангарск   390152.0            2368               164.760135\n",
       "4                 Апатиты   443482.0            2728               162.566716\n",
       "..                    ...        ...             ...                      ...\n",
       "180                  Чита  1246557.0            6753               184.593070\n",
       "181                 Шахты   316406.0            2042               154.949070\n",
       "182               Энгельс   403109.0            2564               157.218799\n",
       "183                  Ялта     1458.0               7               208.285714\n",
       "184             Ярославль  1691049.0           10457               161.714545\n",
       "\n",
       "[185 rows x 4 columns]"
      ]
     },
     "execution_count": 16,
     "metadata": {},
     "output_type": "execute_result"
    }
   ],
   "source": [
    "metric['avg_turnover_per_client'] = metric['turnover'] / metric['unique_clients']\n",
    "metric"
   ]
  },
  {
   "cell_type": "markdown",
   "id": "72dc9e6b-c4af-484c-9265-7b4835f52516",
   "metadata": {},
   "source": [
    "There is still 'Город ОСП контрагента' with 'Нет города' values in the data"
   ]
  },
  {
   "cell_type": "markdown",
   "id": "41a92f15-9c95-4c39-868d-1deead2f8ab5",
   "metadata": {},
   "source": [
    "# Save the data to Excel File"
   ]
  },
  {
   "cell_type": "code",
   "execution_count": 17,
   "id": "cc06bb3f-f762-4321-b43e-0f7627e62197",
   "metadata": {},
   "outputs": [],
   "source": [
    "output_directory = extraction_directory + '/city_rating.xlsx'\n",
    "metric.to_excel(output_directory, index=False)"
   ]
  }
 ],
 "metadata": {
  "kernelspec": {
   "display_name": "Python 3 (ipykernel)",
   "language": "python",
   "name": "python3"
  },
  "language_info": {
   "codemirror_mode": {
    "name": "ipython",
    "version": 3
   },
   "file_extension": ".py",
   "mimetype": "text/x-python",
   "name": "python",
   "nbconvert_exporter": "python",
   "pygments_lexer": "ipython3",
   "version": "3.12.4"
  }
 },
 "nbformat": 4,
 "nbformat_minor": 5
}
